{
 "cells": [
  {
   "cell_type": "code",
   "execution_count": 4,
   "outputs": [],
   "source": [
    "import os\n",
    "import sys\n",
    "import pandas as pd\n",
    "import numpy as np\n",
    "import seaborn as sns"
   ],
   "metadata": {
    "collapsed": false,
    "pycharm": {
     "name": "#%%\n"
    }
   }
  },
  {
   "cell_type": "markdown",
   "source": [
    "## Part 3\n",
    "\n",
    "## Outline\n",
    "\n",
    "1. Build a draft version of an API with train, predict, and logfile endpoints.\n",
    "2. Using Docker, bundle your API, model, and unit tests.\n",
    "3. Using test-driven development iterate on your API in a way that anticipates scale, load, and drift.\n",
    "4. Create a post-production analysis script that investigates the relationship between model performance and the business metric.\n",
    "5. Articulate your summarized findings in a final report.\n"
   ],
   "metadata": {
    "collapsed": false,
    "pycharm": {
     "name": "#%% md\n"
    }
   }
  },
  {
   "cell_type": "markdown",
   "source": [
    "## Getting started\n",
    "\n",
    "To complete previous task the next structure is going to be used.\n",
    "\n",
    "```\n",
    "├── app.py\n",
    "├── Dockerfile\n",
    "├── model.py\n",
    "├── README.rst\n",
    "├── requirements.txt\n",
    "├── run-tests.py\n",
    "├── templates\n",
    "│   ├── base.html\n",
    "│   ├── dashboard.html\n",
    "│   ├── index.html\n",
    "│   └── running.html\n",
    "└── unittests\n",
    "    ├── ApiTests.py\n",
    "    ├── __init__.py\n",
    "    ├── ModelTests.py\n",
    "```\n",
    "\n",
    "We will be working with an Flask API to interact with our model. In order to access the different endpoints of this API make sure the app is running. Open a new command prompt and run the app with the command :\n",
    "\n",
    "\n",
    "```\n",
    "python path/to/working/directory/app.py -d\n",
    "```"
   ],
   "metadata": {
    "collapsed": false,
    "pycharm": {
     "name": "#%% md\n"
    }
   }
  },
  {
   "cell_type": "code",
   "execution_count": 1,
   "outputs": [
    {
     "name": "stdout",
     "output_type": "stream",
     "text": [
      "Collecting cython\n",
      "  Downloading Cython-0.29.32-py2.py3-none-any.whl (986 kB)\n",
      "Requirement already satisfied: numpy in c:\\users\\user\\documents\\001.projects\\aiworkflowpython\\venv\\lib\\site-packages (from -r ./requirements.txt (line 3)) (1.19.5)\n",
      "Requirement already satisfied: flask in c:\\users\\user\\documents\\001.projects\\aiworkflowpython\\venv\\lib\\site-packages (from -r ./requirements.txt (line 4)) (2.0.3)\n",
      "Requirement already satisfied: pandas in c:\\users\\user\\documents\\001.projects\\aiworkflowpython\\venv\\lib\\site-packages (from -r ./requirements.txt (line 5)) (1.1.5)\n",
      "Requirement already satisfied: scikit-learn in c:\\users\\user\\documents\\001.projects\\aiworkflowpython\\venv\\lib\\site-packages (from -r ./requirements.txt (line 6)) (0.24.2)\n",
      "Requirement already satisfied: matplotlib in c:\\users\\user\\documents\\001.projects\\aiworkflowpython\\venv\\lib\\site-packages (from -r ./requirements.txt (line 7)) (3.3.4)\n",
      "Requirement already satisfied: requests in c:\\users\\user\\documents\\001.projects\\aiworkflowpython\\venv\\lib\\site-packages (from -r ./requirements.txt (line 8)) (2.27.1)\n",
      "Collecting xgboost\n",
      "  Downloading xgboost-1.5.2-py3-none-win_amd64.whl (106.6 MB)\n",
      "Requirement already satisfied: itsdangerous>=2.0 in c:\\users\\user\\documents\\001.projects\\aiworkflowpython\\venv\\lib\\site-packages (from flask->-r ./requirements.txt (line 4)) (2.0.1)\n",
      "Requirement already satisfied: Werkzeug>=2.0 in c:\\users\\user\\documents\\001.projects\\aiworkflowpython\\venv\\lib\\site-packages (from flask->-r ./requirements.txt (line 4)) (2.0.3)\n",
      "Requirement already satisfied: Jinja2>=3.0 in c:\\users\\user\\documents\\001.projects\\aiworkflowpython\\venv\\lib\\site-packages (from flask->-r ./requirements.txt (line 4)) (3.0.3)\n",
      "Requirement already satisfied: click>=7.1.2 in c:\\users\\user\\documents\\001.projects\\aiworkflowpython\\venv\\lib\\site-packages (from flask->-r ./requirements.txt (line 4)) (8.0.4)\n",
      "Requirement already satisfied: python-dateutil>=2.7.3 in c:\\users\\user\\documents\\001.projects\\aiworkflowpython\\venv\\lib\\site-packages (from pandas->-r ./requirements.txt (line 5)) (2.8.2)\n",
      "Requirement already satisfied: pytz>=2017.2 in c:\\users\\user\\documents\\001.projects\\aiworkflowpython\\venv\\lib\\site-packages (from pandas->-r ./requirements.txt (line 5)) (2022.1)\n",
      "Requirement already satisfied: scipy>=0.19.1 in c:\\users\\user\\documents\\001.projects\\aiworkflowpython\\venv\\lib\\site-packages (from scikit-learn->-r ./requirements.txt (line 6)) (1.5.4)\n",
      "Requirement already satisfied: joblib>=0.11 in c:\\users\\user\\documents\\001.projects\\aiworkflowpython\\venv\\lib\\site-packages (from scikit-learn->-r ./requirements.txt (line 6)) (1.1.0)\n",
      "Requirement already satisfied: threadpoolctl>=2.0.0 in c:\\users\\user\\documents\\001.projects\\aiworkflowpython\\venv\\lib\\site-packages (from scikit-learn->-r ./requirements.txt (line 6)) (3.1.0)\n",
      "Requirement already satisfied: pillow>=6.2.0 in c:\\users\\user\\documents\\001.projects\\aiworkflowpython\\venv\\lib\\site-packages (from matplotlib->-r ./requirements.txt (line 7)) (8.4.0)\n",
      "Requirement already satisfied: kiwisolver>=1.0.1 in c:\\users\\user\\documents\\001.projects\\aiworkflowpython\\venv\\lib\\site-packages (from matplotlib->-r ./requirements.txt (line 7)) (1.3.1)\n",
      "Requirement already satisfied: cycler>=0.10 in c:\\users\\user\\documents\\001.projects\\aiworkflowpython\\venv\\lib\\site-packages (from matplotlib->-r ./requirements.txt (line 7)) (0.11.0)\n",
      "Requirement already satisfied: pyparsing!=2.0.4,!=2.1.2,!=2.1.6,>=2.0.3 in c:\\users\\user\\documents\\001.projects\\aiworkflowpython\\venv\\lib\\site-packages (from matplotlib->-r ./requirements.txt (line 7)) (3.0.9)\n",
      "Requirement already satisfied: charset-normalizer~=2.0.0 in c:\\users\\user\\documents\\001.projects\\aiworkflowpython\\venv\\lib\\site-packages (from requests->-r ./requirements.txt (line 8)) (2.0.12)\n",
      "Requirement already satisfied: certifi>=2017.4.17 in c:\\users\\user\\documents\\001.projects\\aiworkflowpython\\venv\\lib\\site-packages (from requests->-r ./requirements.txt (line 8)) (2022.6.15)\n",
      "Requirement already satisfied: urllib3<1.27,>=1.21.1 in c:\\users\\user\\documents\\001.projects\\aiworkflowpython\\venv\\lib\\site-packages (from requests->-r ./requirements.txt (line 8)) (1.26.11)\n",
      "Requirement already satisfied: idna<4,>=2.5 in c:\\users\\user\\documents\\001.projects\\aiworkflowpython\\venv\\lib\\site-packages (from requests->-r ./requirements.txt (line 8)) (3.3)\n",
      "Requirement already satisfied: colorama in c:\\users\\user\\documents\\001.projects\\aiworkflowpython\\venv\\lib\\site-packages (from click>=7.1.2->flask->-r ./requirements.txt (line 4)) (0.4.5)\n",
      "Requirement already satisfied: importlib-metadata in c:\\users\\user\\documents\\001.projects\\aiworkflowpython\\venv\\lib\\site-packages (from click>=7.1.2->flask->-r ./requirements.txt (line 4)) (4.8.3)\n",
      "Requirement already satisfied: MarkupSafe>=2.0 in c:\\users\\user\\documents\\001.projects\\aiworkflowpython\\venv\\lib\\site-packages (from Jinja2>=3.0->flask->-r ./requirements.txt (line 4)) (2.0.1)\n",
      "Requirement already satisfied: six>=1.5 in c:\\users\\user\\documents\\001.projects\\aiworkflowpython\\venv\\lib\\site-packages (from python-dateutil>=2.7.3->pandas->-r ./requirements.txt (line 5)) (1.16.0)\n",
      "Requirement already satisfied: dataclasses in c:\\users\\user\\documents\\001.projects\\aiworkflowpython\\venv\\lib\\site-packages (from Werkzeug>=2.0->flask->-r ./requirements.txt (line 4)) (0.8)\n",
      "Requirement already satisfied: typing-extensions>=3.6.4 in c:\\users\\user\\documents\\001.projects\\aiworkflowpython\\venv\\lib\\site-packages (from importlib-metadata->click>=7.1.2->flask->-r ./requirements.txt (line 4)) (4.1.1)\n",
      "Requirement already satisfied: zipp>=0.5 in c:\\users\\user\\documents\\001.projects\\aiworkflowpython\\venv\\lib\\site-packages (from importlib-metadata->click>=7.1.2->flask->-r ./requirements.txt (line 4)) (3.6.0)\n",
      "Installing collected packages: xgboost, cython\n",
      "Successfully installed cython-0.29.32 xgboost-1.5.2\n"
     ]
    }
   ],
   "source": [
    "!pip install -r ./requirements.txt"
   ],
   "metadata": {
    "collapsed": false,
    "pycharm": {
     "name": "#%%\n"
    }
   }
  },
  {
   "cell_type": "code",
   "execution_count": 11,
   "outputs": [
    {
     "name": "stderr",
     "output_type": "stream",
     "text": [
      "....\n",
      "----------------------------------------------------------------------\n",
      "Ran 4 tests in 0.018s\n",
      "\n",
      "OK\n"
     ]
    }
   ],
   "source": [
    "!python ./unittests/LoggerTests.py"
   ],
   "metadata": {
    "collapsed": false,
    "pycharm": {
     "name": "#%%\n"
    }
   }
  },
  {
   "cell_type": "code",
   "execution_count": 28,
   "outputs": [
    {
     "name": "stderr",
     "output_type": "stream",
     "text": [
      "....\n",
      "----------------------------------------------------------------------\n",
      "Ran 4 tests in 143.485s\n",
      "\n",
      "OK\n"
     ]
    }
   ],
   "source": [
    "!python ./unittests/ApiTests.py"
   ],
   "metadata": {
    "collapsed": false,
    "pycharm": {
     "name": "#%%\n"
    }
   }
  },
  {
   "cell_type": "code",
   "execution_count": null,
   "outputs": [],
   "source": [],
   "metadata": {
    "collapsed": false,
    "pycharm": {
     "name": "#%%\n"
    }
   }
  },
  {
   "cell_type": "code",
   "execution_count": 4,
   "outputs": [
    {
     "name": "stdout",
     "output_type": "stream",
     "text": [
      "Run model train\n",
      "model training complete.\n"
     ]
    }
   ],
   "source": [
    "! python run-model-train.py"
   ],
   "metadata": {
    "collapsed": false,
    "pycharm": {
     "name": "#%%\n"
    }
   }
  },
  {
   "cell_type": "code",
   "execution_count": null,
   "outputs": [],
   "source": [],
   "metadata": {
    "collapsed": false,
    "pycharm": {
     "name": "#%%\n"
    }
   }
  }
 ],
 "metadata": {
  "kernelspec": {
   "display_name": "Python 3",
   "language": "python",
   "name": "python3"
  },
  "language_info": {
   "codemirror_mode": {
    "name": "ipython",
    "version": 2
   },
   "file_extension": ".py",
   "mimetype": "text/x-python",
   "name": "python",
   "nbconvert_exporter": "python",
   "pygments_lexer": "ipython2",
   "version": "2.7.6"
  }
 },
 "nbformat": 4,
 "nbformat_minor": 0
}