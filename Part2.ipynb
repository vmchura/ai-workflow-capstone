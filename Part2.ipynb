{
 "cells": [
  {
   "cell_type": "code",
   "execution_count": 1,
   "outputs": [],
   "source": [
    "import os\n",
    "import sys\n",
    "import pandas as pd\n",
    "import numpy as np\n",
    "from solutionguidance import cslib\n",
    "from solutionguidance import model\n",
    "from solutionguidance import logger\n",
    "import seaborn as sns"
   ],
   "metadata": {
    "collapsed": false,
    "pycharm": {
     "name": "#%%\n"
    }
   }
  },
  {
   "cell_type": "markdown",
   "source": [
    "### PART 2: Time series Analysis\n",
    "#### Deliverable goals\n",
    "\n",
    "1. State the different modeling approaches that you will compare to address the business opportunity.\n",
    "2. Iterate on your suite of possible models by modifying data transformations, pipeline architectures, hyperparameters\n",
    "and other relevant factors.\n",
    "3. Re-train your model on all of the data using the selected approach and prepare it for deployment.\n",
    "4. Articulate your findings in a summary report."
   ],
   "metadata": {
    "collapsed": false,
    "pycharm": {
     "name": "#%% md\n"
    }
   }
  },
  {
   "cell_type": "code",
   "execution_count": 2,
   "outputs": [],
   "source": [
    "# logger.init_logs()"
   ],
   "metadata": {
    "collapsed": false,
    "pycharm": {
     "name": "#%%\n"
    }
   }
  },
  {
   "cell_type": "code",
   "execution_count": 3,
   "outputs": [],
   "source": [
    "DATA_DIR = os.path.join('.', 'cs-train')"
   ],
   "metadata": {
    "collapsed": false,
    "pycharm": {
     "name": "#%%\n"
    }
   }
  },
  {
   "cell_type": "code",
   "execution_count": 4,
   "outputs": [
    {
     "name": "stdout",
     "output_type": "stream",
     "text": [
      "... test flag on\n",
      "...... subseting data\n",
      "...... subseting countries\n",
      "... loading ts data from files\n",
      "... saving test version of model: models\\test-all-0_1.joblib\n",
      "... saving test version of model: models\\test-united_kingdom-0_1.joblib\n"
     ]
    }
   ],
   "source": [
    "model.model_train(DATA_DIR, test=True)"
   ],
   "metadata": {
    "collapsed": false,
    "pycharm": {
     "name": "#%%\n"
    }
   }
  },
  {
   "cell_type": "markdown",
   "source": [
    "From logs the rmse for UK is 31116 and r2_score 0.7692760296227026, which is a base line for further reference."
   ],
   "metadata": {
    "collapsed": false,
    "pycharm": {
     "name": "#%% md\n"
    }
   }
  },
  {
   "cell_type": "markdown",
   "source": [],
   "metadata": {
    "collapsed": false,
    "pycharm": {
     "name": "#%% md\n"
    }
   }
  }
 ],
 "metadata": {
  "kernelspec": {
   "display_name": "Python 3",
   "language": "python",
   "name": "python3"
  },
  "language_info": {
   "codemirror_mode": {
    "name": "ipython",
    "version": 2
   },
   "file_extension": ".py",
   "mimetype": "text/x-python",
   "name": "python",
   "nbconvert_exporter": "python",
   "pygments_lexer": "ipython2",
   "version": "2.7.6"
  }
 },
 "nbformat": 4,
 "nbformat_minor": 0
}